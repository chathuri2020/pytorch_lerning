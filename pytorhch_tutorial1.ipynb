{
  "nbformat": 4,
  "nbformat_minor": 0,
  "metadata": {
    "colab": {
      "provenance": [],
      "authorship_tag": "ABX9TyP1+NhsC+zzDcDYCNeDHnZj",
      "include_colab_link": true
    },
    "kernelspec": {
      "name": "python3",
      "display_name": "Python 3"
    },
    "language_info": {
      "name": "python"
    }
  },
  "cells": [
    {
      "cell_type": "markdown",
      "metadata": {
        "id": "view-in-github",
        "colab_type": "text"
      },
      "source": [
        "<a href=\"https://colab.research.google.com/github/chathuri2020/pytorch_lerning/blob/main/pytorhch_tutorial1.ipynb\" target=\"_parent\"><img src=\"https://colab.research.google.com/assets/colab-badge.svg\" alt=\"Open In Colab\"/></a>"
      ]
    },
    {
      "cell_type": "code",
      "execution_count": 1,
      "metadata": {
        "id": "KmA8aMjovsK2"
      },
      "outputs": [],
      "source": [
        "import torch"
      ]
    },
    {
      "cell_type": "code",
      "source": [
        "tensor1 = torch.tensor(8)"
      ],
      "metadata": {
        "id": "r8P9YBWGyUK_"
      },
      "execution_count": 2,
      "outputs": []
    },
    {
      "cell_type": "code",
      "source": [
        "print(tensor1)"
      ],
      "metadata": {
        "colab": {
          "base_uri": "https://localhost:8080/"
        },
        "id": "lu4W_oHWyj6-",
        "outputId": "718ef986-559f-4e9e-fdfd-58a73ba26495"
      },
      "execution_count": 3,
      "outputs": [
        {
          "output_type": "stream",
          "name": "stdout",
          "text": [
            "tensor(8)\n"
          ]
        }
      ]
    },
    {
      "cell_type": "code",
      "source": [
        "print(tensor1.dtype)"
      ],
      "metadata": {
        "colab": {
          "base_uri": "https://localhost:8080/"
        },
        "id": "0B1qdVTcym3H",
        "outputId": "5b952e0e-af7d-42a4-dd3b-1d4d2f472961"
      },
      "execution_count": 4,
      "outputs": [
        {
          "output_type": "stream",
          "name": "stdout",
          "text": [
            "torch.int64\n"
          ]
        }
      ]
    },
    {
      "cell_type": "code",
      "source": [
        "tensor2 = torch.tensor([10,20,30,40])\n"
      ],
      "metadata": {
        "id": "FJWc-5Q-ysMT"
      },
      "execution_count": 5,
      "outputs": []
    },
    {
      "cell_type": "code",
      "source": [
        "x = torch.tensor([1, 2, 3])\n",
        "y = torch.tensor([4, 5, 6])\n",
        "\n",
        "# Element-wise addition\n",
        "z = x + y\n",
        "print(z)  # Output: tensor([5, 7, 9])\n",
        "\n",
        "# Matrix multiplication\n",
        "A = torch.rand(2, 3)\n",
        "B = torch.rand(3, 2)\n",
        "result = torch.matmul(A, B)\n",
        "print(result.shape)  # (2,2) matrix\n"
      ],
      "metadata": {
        "colab": {
          "base_uri": "https://localhost:8080/"
        },
        "id": "kp8daNVDEgc2",
        "outputId": "ea65c1fa-5ff6-4678-9562-2c90537f3cb3"
      },
      "execution_count": 6,
      "outputs": [
        {
          "output_type": "stream",
          "name": "stdout",
          "text": [
            "tensor([5, 7, 9])\n",
            "torch.Size([2, 2])\n"
          ]
        }
      ]
    },
    {
      "cell_type": "code",
      "source": [
        "\n",
        "# Example: Matrix multiplication with tensors\n",
        "input_tensor = torch.rand(2, 3)\n",
        "weights = torch.rand(3, 2)\n",
        "output = torch.matmul(input_tensor, weights)  # Matrix multiplication\n",
        "print(output.shape)  # Output shape (2,2)\n"
      ],
      "metadata": {
        "colab": {
          "base_uri": "https://localhost:8080/"
        },
        "id": "adRuFXpwEhYj",
        "outputId": "25409a4b-5ca3-4f37-b327-c1960e25e852"
      },
      "execution_count": 7,
      "outputs": [
        {
          "output_type": "stream",
          "name": "stdout",
          "text": [
            "torch.Size([2, 2])\n"
          ]
        }
      ]
    },
    {
      "cell_type": "code",
      "source": [
        "\n",
        "# 2D Tensor (Matrix: 2 rows, 3 columns)\n",
        "t2d = torch.tensor([[1, 2, 3], [4, 5, 6]])  # Shape (2,3)\n",
        "\n",
        "# 3D Tensor (3 matrices of size 2x3)\n",
        "t3d = torch.tensor([\n",
        "    [[1, 2, 3], [4, 5, 6]],\n",
        "    [[7, 8, 9], [10, 11, 12]],\n",
        "    [[13, 14, 15], [16, 17, 18]]\n",
        "])  # Shape (3,2,3)\n",
        "\n",
        "# 4D Tensor (2 sets of 3D tensors, each containing 2 matrices of size 2x3)\n",
        "t4d = torch.tensor([\n",
        "    [[[1, 2, 3], [4, 5, 6]], [[7, 8, 9], [10, 11, 12]]],\n",
        "    [[[13, 14, 15], [16, 17, 18]], [[19, 20, 21], [22, 23, 24]]]\n",
        "])  # Shape (2,2,2,3)\n",
        "\n",
        "print(t2d.shape)  # torch.Size([2, 3])\n",
        "print(t3d.shape)  # torch.Size([3, 2, 3])\n",
        "print(t4d.shape)  # torch.Size([2, 2, 2, 3])\n"
      ],
      "metadata": {
        "id": "3JBWgJwqJtjc",
        "colab": {
          "base_uri": "https://localhost:8080/"
        },
        "outputId": "49f7a711-c97d-441c-f185-15d32f7bea4e"
      },
      "execution_count": 8,
      "outputs": [
        {
          "output_type": "stream",
          "name": "stdout",
          "text": [
            "torch.Size([2, 3])\n",
            "torch.Size([3, 2, 3])\n",
            "torch.Size([2, 2, 2, 3])\n"
          ]
        }
      ]
    },
    {
      "cell_type": "code",
      "source": [],
      "metadata": {
        "id": "mRQJ42ehBj_6"
      },
      "execution_count": null,
      "outputs": []
    }
  ]
}